{
 "cells": [
  {
   "cell_type": "code",
   "execution_count": 1,
   "metadata": {},
   "outputs": [
    {
     "name": "stdout",
     "output_type": "stream",
     "text": [
      "enter percentage to check grade:  56\n",
      "Grade C\n"
     ]
    }
   ],
   "source": [
    "# Assignment 2\n",
    "# Usaid ali\n",
    "perc=int(input(\"enter percentage to check grade:  \"))\n",
    "    \n",
    "if perc>=80 and perc<=100:\n",
    "    print(\"Grade A+\")\n",
    "elif perc<80 and perc>=70:\n",
    "    print(\"Grade A\");\n",
    "elif perc<70 and perc>=60:\n",
    "    print(\"Grade B\");\n",
    "elif perc<60 and perc>=50:\n",
    "    print(\"Grade C\");\n",
    "elif perc<50 and perc>=40:\n",
    "    print(\"Grade D\");\n",
    "elif perc<50 and perc>=0:\n",
    "    print(\"Grade F\");\n",
    "else:\n",
    "        print(\"invalid percentage\")\n",
    "    "
   ]
  },
  {
   "cell_type": "code",
   "execution_count": null,
   "metadata": {},
   "outputs": [],
   "source": []
  }
 ],
 "metadata": {
  "kernelspec": {
   "display_name": "Python 3",
   "language": "python",
   "name": "python3"
  },
  "language_info": {
   "codemirror_mode": {
    "name": "ipython",
    "version": 3
   },
   "file_extension": ".py",
   "mimetype": "text/x-python",
   "name": "python",
   "nbconvert_exporter": "python",
   "pygments_lexer": "ipython3",
   "version": "3.7.4"
  }
 },
 "nbformat": 4,
 "nbformat_minor": 2
}

{
 "cells": [
  {
   "cell_type": "code",
   "execution_count": null,
   "metadata": {},
   "outputs": [],
   "source": [
    "# usaid ali\n",
    "\"\"\"\n",
    "Object-oriented programming (OOP) is a programming language model \n",
    "in which programs are organized around data, or objects, rather than functions and logic. \n",
    "An object can be defined as a data field that has unique attributes and behavior.\n",
    "\"\"\"\n"
   ]
  },
  {
   "cell_type": "code",
   "execution_count": null,
   "metadata": {},
   "outputs": [],
   "source": [
    "# usaid ali\n",
    "# Reuse of code through inheritance i.e child class derived from parent class.\n",
    "# Effective problem solving.\n",
    "# Flexibility through polymorphism.\n",
    "# easier troubleshooting."
   ]
  },
  {
   "cell_type": "code",
   "execution_count": null,
   "metadata": {},
   "outputs": [],
   "source": [
    "# usaid ali\n",
    "\n",
    "# function\n",
    "\"\"\"\n",
    "A function is a piece of code that is called by name. It can be passed data to operate \n",
    "on (i.e. the parameters) and can optionally return data (the return value). \n",
    "\"\"\"\n",
    "# method\n",
    "\"\"\"\n",
    "A method is a piece of code that is called by a name that is associated with an object. \n",
    "In most respects it is identical to a function except for two key differences:\n",
    "\n",
    "1.A method is implicitly passed the object on which it was called.\n",
    "2. A method is able to operate on data that is contained within the class\n",
    "\"\"\"\n"
   ]
  },
  {
   "cell_type": "code",
   "execution_count": null,
   "metadata": {},
   "outputs": [],
   "source": [
    "# usaid ali\n",
    "\n",
    "# class\n",
    "\"\"\"\n",
    "A category of objects. The class defines all the common properties of the different objects that belong to it.\n",
    "\"\"\"\n",
    "# object\n",
    "\"\"\"\n",
    "An object can be defined as a data field that has unique attributes and behavior.\n",
    "\"\"\"\n",
    "# attribute\n",
    "\"\"\"\n",
    "In Object-oriented programming(OOP), classes and objects have attributes. \n",
    "Attributes are data stored inside a class or instance and represent the state or quality of the class or instance.\n",
    "\"\"\"\n",
    "# behaviour \n",
    "\"\"\"\n",
    "The behavior of an object is defined by its methods, which are the functions and subroutines defined within the object class.\n",
    "\"\"\"\n"
   ]
  },
  {
   "cell_type": "code",
   "execution_count": 34,
   "metadata": {},
   "outputs": [
    {
     "name": "stdout",
     "output_type": "stream",
     "text": [
      "502\n",
      "white\n",
      "102\n",
      "5\n",
      "3\n",
      "602\n",
      "blue\n",
      "5\n",
      "6\n",
      "4\n"
     ]
    }
   ],
   "source": [
    "# usaid ali\n",
    "\n",
    "class Car(object):\n",
    "    def __init__(self, name,color, speed, gear, capacity):\n",
    "        self.name = name\n",
    "        self.color = color\n",
    "        self.speed = speed\n",
    "        self.gear = gear\n",
    "        self.capacity = capacity\n",
    "        \n",
    "    def accelerate(self):\n",
    "        self.speed = self.speed + 2\n",
    "        print (self.speed)\n",
    "        \n",
    "    def passenger(self):\n",
    "        self.capacity = self.capacity + 1\n",
    "        print (self.capacity)\n",
    "        \n",
    "    def gears(self):\n",
    "        self.gear = self.gear + 2\n",
    "        print (self.gear)\n",
    "        \n",
    "\n",
    "bmw = Car(\"BMW\",\"white\",500, 4,5)\n",
    "ferrari = Car(\"Ferrari\",\"red\",100,5,4)\n",
    "ford = Car(\"Ford\",\"blue\",600,4,3)\n",
    "toyota = Car(\"toyota\",\"blue\",1800,3,4)\n",
    "mehran = Car(\"mehran\",\"black\",1000,2,6)\n",
    "\n",
    "\n",
    "bmw.accelerate()\n",
    "print (bmw.color)\n",
    "\n",
    "ferrari.accelerate()\n",
    "print (ferrari.gear)\n",
    "\n",
    "print (ford.capacity)\n",
    "ford.accelerate()\n",
    "\n",
    "print (toyota.color)\n",
    "toyota.passenger()\n",
    "\n",
    "print (mehran.capacity)\n",
    "mehran.gears()\n"
   ]
  },
  {
   "cell_type": "code",
   "execution_count": null,
   "metadata": {},
   "outputs": [],
   "source": []
  },
  {
   "cell_type": "code",
   "execution_count": null,
   "metadata": {},
   "outputs": [],
   "source": []
  }
 ],
 "metadata": {
  "kernelspec": {
   "display_name": "Python 3",
   "language": "python",
   "name": "python3"
  },
  "language_info": {
   "codemirror_mode": {
    "name": "ipython",
    "version": 3
   },
   "file_extension": ".py",
   "mimetype": "text/x-python",
   "name": "python",
   "nbconvert_exporter": "python",
   "pygments_lexer": "ipython3",
   "version": "3.7.4"
  }
 },
 "nbformat": 4,
 "nbformat_minor": 2
}

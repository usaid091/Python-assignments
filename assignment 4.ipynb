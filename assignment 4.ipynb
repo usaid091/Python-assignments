{
 "cells": [
  {
   "cell_type": "code",
   "execution_count": 1,
   "metadata": {},
   "outputs": [
    {
     "name": "stdout",
     "output_type": "stream",
     "text": [
      "{'first_name': 'usaid', 'last_name': 'ali', 'age': 19, 'city': 'karachi'}\n"
     ]
    }
   ],
   "source": [
    "person = {'first_name':  \"usaid\" ,\n",
    "          'last_name': 'ali',\n",
    "          'age': 19,\n",
    "          'city': 'karachi',\n",
    "         }\n",
    "person.update({\"qualification\":\"BE\"})\n",
    "del person['qualification']\n",
    "print(person)"
   ]
  },
  {
   "cell_type": "code",
   "execution_count": 2,
   "metadata": {},
   "outputs": [
    {
     "name": "stdout",
     "output_type": "stream",
     "text": [
      "*karachi\n",
      "paksitan\n",
      "two crore\n",
      "city of lights\n",
      "*sukkur\n",
      "paksitan\n",
      "seven lac\n",
      "mini paksitan\n",
      "*isl\n",
      "paksitan\n",
      "one crore\n",
      "capital of pakistan\n"
     ]
    }
   ],
   "source": [
    "cities = []\n",
    "inf= {\n",
    "    'city': '*karachi',\n",
    "    'country': 'paksitan',\n",
    "    'popu': 'two crore',\n",
    "    'fact': 'city of lights',\n",
    "    }\n",
    "cities.append(inf)\n",
    "\n",
    "inf = {\n",
    "    'city': '*sukkur',\n",
    "    'country': 'paksitan',\n",
    "    'popu': 'seven lac',\n",
    "    'fact': 'mini paksitan',\n",
    "    }\n",
    "cities.append(inf)\n",
    "\n",
    "inf = {\n",
    "    'city': '*isl',\n",
    "    'country': 'paksitan',\n",
    "    'popu': 'one crore',\n",
    "    'fact': 'capital of pakistan',\n",
    "    }\n",
    "cities.append(inf)\n",
    "\n",
    "for inf in cities:\n",
    "    city= inf['city']\n",
    "    country=inf['country']\n",
    "    popu = inf['popu']\n",
    "    fact=inf['fact']\n",
    "    \n",
    "    print(city)\n",
    "    print(country)\n",
    "    print(popu)\n",
    "    print(fact)\n",
    "    "
   ]
  },
  {
   "cell_type": "code",
   "execution_count": 3,
   "metadata": {},
   "outputs": [
    {
     "name": "stdout",
     "output_type": "stream",
     "text": [
      "smart way of python is one of my favorite books.\n"
     ]
    }
   ],
   "source": [
    "def favorite_book(title):\n",
    "    print(title + \" is one of my favorite books.\")\n",
    "\n",
    "favorite_book('smart way of python')"
   ]
  },
  {
   "cell_type": "code",
   "execution_count": 4,
   "metadata": {},
   "outputs": [
    {
     "name": "stdout",
     "output_type": "stream",
     "text": [
      "Hello! What is your name?\n",
      "usaid\n",
      "Well, usaid, I am thinking of a number between 1 and 30.\n",
      "Take a guess.\n",
      "14\n",
      "Your guess is too high.\n",
      "Take a guess.\n",
      "4\n",
      "Your guess is too low.\n",
      "Take a guess.\n",
      "28\n",
      "Your guess is too high.\n",
      "Nope. The number I was thinking of was 11.\n"
     ]
    }
   ],
   "source": [
    "import random\n",
    "guessesTaken = 0\n",
    "print('Hello! What is your name?')\n",
    "myName = input()\n",
    "\n",
    "number = random.randint(1, 30)\n",
    "print('Well, ' + myName + ', I am thinking of a number between 1 and 30.')\n",
    "\n",
    "while guessesTaken < 3:\n",
    "    print('Take a guess.')\n",
    "    guess = input()\n",
    "    guess = int(guess)\n",
    "    \n",
    "    guessesTaken = guessesTaken + 1\n",
    "    \n",
    "    if guess < number:\n",
    "        print('Your guess is too low.') # Eight spaces in front of \"print\"\n",
    "    if guess > number:\n",
    "        print('Your guess is too high.')\n",
    "    if guess == number:\n",
    "        break\n",
    "if guess == number:\n",
    "    guessesTaken = str(guessesTaken + 1)\n",
    "    print('Good job, ' + myName + '! You guessed my number in ' + guessesTaken + ' guesses!')\n",
    "    \n",
    "if guess != number:\n",
    "    number = str(number)\n",
    "    print('Nope. The number I was thinking of was ' + number + '.')"
   ]
  },
  {
   "cell_type": "code",
   "execution_count": null,
   "metadata": {},
   "outputs": [
    {
     "name": "stdout",
     "output_type": "stream",
     "text": [
      "how old are you?14\n",
      "  Your ticket is $15.\n",
      "how old are you?12\n",
      "  Your ticket is $10.\n"
     ]
    }
   ],
   "source": [
    "while True:\n",
    "    age = input(\"how old are you?\")\n",
    "    age = int(age)\n",
    "\n",
    "    if age>=1 and age<=3:\n",
    "        print(\"  You get in free!\")\n",
    "    elif age>3 and age<=12:\n",
    "        print(\"  Your ticket is $10.\")\n",
    "    else:\n",
    "        print(\"  Your ticket is $15.\")"
   ]
  },
  {
   "cell_type": "code",
   "execution_count": null,
   "metadata": {},
   "outputs": [],
   "source": []
  }
 ],
 "metadata": {
  "kernelspec": {
   "display_name": "Python 3",
   "language": "python",
   "name": "python3"
  },
  "language_info": {
   "codemirror_mode": {
    "name": "ipython",
    "version": 3
   },
   "file_extension": ".py",
   "mimetype": "text/x-python",
   "name": "python",
   "nbconvert_exporter": "python",
   "pygments_lexer": "ipython3",
   "version": "3.7.4"
  }
 },
 "nbformat": 4,
 "nbformat_minor": 2
}

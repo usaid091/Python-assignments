{
 "cells": [
  {
   "cell_type": "code",
   "execution_count": 2,
   "metadata": {},
   "outputs": [
    {
     "name": "stdout",
     "output_type": "stream",
     "text": [
      "Input a number to find the factiorial of your choice : 4\n",
      "24\n"
     ]
    }
   ],
   "source": [
    "# usaid ali\n",
    "def fact(n):\n",
    "    if n == 0:\n",
    "        return 1\n",
    "    else:\n",
    "        return n * fact(n-1)\n",
    "n=int(input(\"Input a number to find the factiorial of your choice : \"))\n",
    "print(fact(n))"
   ]
  },
  {
   "cell_type": "code",
   "execution_count": 8,
   "metadata": {},
   "outputs": [
    {
     "name": "stdout",
     "output_type": "stream",
     "text": [
      "Upper case: 8\n",
      "Lower case: 5\n"
     ]
    }
   ],
   "source": [
    "# usaid ali\n",
    "def UpperAndLowerCase(count):\n",
    "   upper = 0\n",
    "   lower = 0\n",
    "   for i in count:\n",
    "      if i >='A' and i <= 'Z':\n",
    "         upper += 1\n",
    "      elif i >= 'a' and i <= 'z':\n",
    "         lower += 1\n",
    "   print(\"Upper case: \" + str(upper))\n",
    "   print(\"Lower case: \" + str(lower))\n",
    "\n",
    "UpperAndLowerCase(\"MY name Is USAID\")\n"
   ]
  },
  {
   "cell_type": "code",
   "execution_count": 11,
   "metadata": {},
   "outputs": [
    {
     "name": "stdout",
     "output_type": "stream",
     "text": [
      "[2, 4, 6, 10, 8]\n"
     ]
    }
   ],
   "source": [
    "# usaid ali\n",
    "def even_num(list):\n",
    "    evennum = []\n",
    "    for n in list:\n",
    "        if n % 2 == 0:\n",
    "            evennum.append(n)\n",
    "    return evennum\n",
    "print(even_num([45, 7, 2, 4, 6, 10, 11, 8, 55]))\n",
    " "
   ]
  },
  {
   "cell_type": "code",
   "execution_count": 13,
   "metadata": {},
   "outputs": [
    {
     "name": "stdout",
     "output_type": "stream",
     "text": [
      "Yes\n"
     ]
    }
   ],
   "source": [
    "# usaid ali\n",
    "def reverse(pa): \n",
    "    return pa[::-1] \n",
    "  \n",
    "def isPalindrome(pa):  \n",
    "    rev = reverse(pa) \n",
    "  \n",
    "    if (pa == rev): \n",
    "        return True\n",
    "    return False\n",
    "  \n",
    "# enter string \n",
    "pa = \"MADAM\"\n",
    "ans = isPalindrome(pa) \n",
    "  \n",
    "if ans == 1: \n",
    "    print(\"Yes\") \n",
    "else: \n",
    "    print(\"No\") "
   ]
  },
  {
   "cell_type": "code",
   "execution_count": 4,
   "metadata": {},
   "outputs": [
    {
     "name": "stdout",
     "output_type": "stream",
     "text": [
      "True\n"
     ]
    }
   ],
   "source": [
    "# usaid ali\n",
    "def checkprimenumber(n):\n",
    "    if (n==1):\n",
    "        return False\n",
    "    elif (n==2):\n",
    "        return True;\n",
    "    else:\n",
    "        for x in range(2,n):\n",
    "            if(n % x==0):\n",
    "                return False\n",
    "        return True             \n",
    "print(checkprimenumber(2))"
   ]
  },
  {
   "cell_type": "code",
   "execution_count": 23,
   "metadata": {},
   "outputs": [
    {
     "name": "stdout",
     "output_type": "stream",
     "text": [
      "product name is apples\n",
      "product name is shampoo\n",
      "product name is banana\n",
      "product name is coffee\n",
      "product name is dryer\n",
      "product name is milk\n",
      "product name is sugar\n"
     ]
    }
   ],
   "source": [
    "# usaid ali\n",
    "def sho_list(*items):\n",
    "   for name in items:\n",
    "       print(\"product name is\",name)\n",
    "\n",
    "sho_list(\"apples\",\"shampoo\",\"banana\",\"coffee\",\"dryer\",\"milk\",\"sugar\")"
   ]
  },
  {
   "cell_type": "code",
   "execution_count": null,
   "metadata": {},
   "outputs": [],
   "source": []
  },
  {
   "cell_type": "code",
   "execution_count": null,
   "metadata": {},
   "outputs": [],
   "source": []
  }
 ],
 "metadata": {
  "kernelspec": {
   "display_name": "Python 3",
   "language": "python",
   "name": "python3"
  },
  "language_info": {
   "codemirror_mode": {
    "name": "ipython",
    "version": 3
   },
   "file_extension": ".py",
   "mimetype": "text/x-python",
   "name": "python",
   "nbconvert_exporter": "python",
   "pygments_lexer": "ipython3",
   "version": "3.7.4"
  }
 },
 "nbformat": 4,
 "nbformat_minor": 2
}

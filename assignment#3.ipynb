{
 "cells": [
  {
   "cell_type": "code",
   "execution_count": 1,
   "metadata": {},
   "outputs": [
    {
     "name": "stdout",
     "output_type": "stream",
     "text": [
      "enter first value:2\n",
      "enter the second value:3\n",
      "enter operators:^\n",
      "8 answer\n"
     ]
    }
   ],
   "source": [
    "# usaid ali\n",
    "value1=int(input(\"enter first value:\"))\n",
    "value2=int(input(\"enter the second value:\"))\n",
    "operators=input(\"enter operators:\")\n",
    "if operators=='+':\n",
    "    val=value1+value2\n",
    "    print(val,'answer')\n",
    "elif operators=='-':\n",
    "      val=value1-value2; \n",
    "      print(val,'answer')\n",
    "elif operators=='*':\n",
    "      val=value1*value2\n",
    "      print(val,'answer')\n",
    "elif operators=='/':\n",
    "      val=value1/value2\n",
    "      print(val,'answer') \n",
    "elif operators=='^':\n",
    "      val=pow(value1,value2)\n",
    "      print(val,'answer')\n",
    "else:\n",
    "      print(\"enter correct operators\")"
   ]
  },
  {
   "cell_type": "code",
   "execution_count": 13,
   "metadata": {},
   "outputs": [
    {
     "name": "stdout",
     "output_type": "stream",
     "text": [
      "Element Exists\n"
     ]
    }
   ],
   "source": [
    "# usaid ali\n",
    "check_list = [ 2, 6, 9, 5, 3, 4 ]\n",
    "for i in check_list: \n",
    "    if(i == 4) : \n",
    "        print (\"Element Exists\") \n",
    "\n",
    "  \n"
   ]
  },
  {
   "cell_type": "code",
   "execution_count": 19,
   "metadata": {},
   "outputs": [
    {
     "name": "stdout",
     "output_type": "stream",
     "text": [
      "{'name': 'usaid', 'phone no': '12345', 'gender': 'male', 'class': 'B.E', 'address': 'karachi'}\n"
     ]
    }
   ],
   "source": [
    "# usaid ali\n",
    "data={\"name\":\"usaid\",\n",
    "      \"phone no\":\"12345\",\n",
    "      \"gender\":\"male\",\n",
    "      \"class\":\"B.E\"\n",
    "     }\n",
    "data[\"address\"]=\"karachi\"\n",
    "print(data)\n"
   ]
  },
  {
   "cell_type": "code",
   "execution_count": 22,
   "metadata": {},
   "outputs": [
    {
     "name": "stdout",
     "output_type": "stream",
     "text": [
      "20\n"
     ]
    }
   ],
   "source": [
    "# usaid ali\n",
    "dic = {'data1':5,'data2':10,'data3':5}\n",
    "print(sum(dic.values()))"
   ]
  },
  {
   "cell_type": "code",
   "execution_count": 37,
   "metadata": {},
   "outputs": [
    {
     "name": "stdout",
     "output_type": "stream",
     "text": [
      "[9, 15, 45, 12]\n"
     ]
    }
   ],
   "source": [
    "# usaid ali\n",
    "list = [ 3, 6, 9, 9, 45, 30, 15, 15, 45, 36, 12, 12]\n",
    "duplicate_item = []\n",
    "unique_item = {}\n",
    "for i in lst:\n",
    "   if i not in unique_item:\n",
    "      unique_item[i] = 1\n",
    "   else:\n",
    "      if unique_item[i] == 1:\n",
    "         duplicate_item.append(i)\n",
    "      unique_item[i] += 1\n",
    "print(duplicate_item)"
   ]
  },
  {
   "cell_type": "code",
   "execution_count": 45,
   "metadata": {},
   "outputs": [
    {
     "name": "stdout",
     "output_type": "stream",
     "text": [
      "Key is present in the dictionary\n",
      "Key is not present in the dictionary\n"
     ]
    }
   ],
   "source": [
    "# usaid ali\n",
    "d = {1, 2, 3, 4, 5, 6}\n",
    "def key_is_present(k):\n",
    "  if k in d:\n",
    "      print('Key is present in the dictionary')\n",
    "  else:\n",
    "      print('Key is not present in the dictionary')\n",
    "key_is_present(5)\n",
    "key_is_present(10)\n"
   ]
  },
  {
   "cell_type": "code",
   "execution_count": null,
   "metadata": {},
   "outputs": [],
   "source": []
  }
 ],
 "metadata": {
  "kernelspec": {
   "display_name": "Python 3",
   "language": "python",
   "name": "python3"
  },
  "language_info": {
   "codemirror_mode": {
    "name": "ipython",
    "version": 3
   },
   "file_extension": ".py",
   "mimetype": "text/x-python",
   "name": "python",
   "nbconvert_exporter": "python",
   "pygments_lexer": "ipython3",
   "version": "3.7.4"
  }
 },
 "nbformat": 4,
 "nbformat_minor": 2
}

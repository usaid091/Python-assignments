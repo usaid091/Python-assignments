{
 "cells": [
  {
   "cell_type": "code",
   "execution_count": 2,
   "metadata": {},
   "outputs": [
    {
     "name": "stdout",
     "output_type": "stream",
     "text": [
      "enter the marks of subject #1 45\n",
      "enter the marks of subject #2 14\n",
      "enter the marks of subject #3 54\n",
      "enter the marks of subject #4 12\n",
      "enter the marks of subject #5 47\n",
      " Grade F\n"
     ]
    }
   ],
   "source": [
    "# Assignment 2\n",
    "# Usaid ali\n",
    "a=int(input(\"enter the marks of subject #1 \"))\n",
    "b=int(input(\"enter the marks of subject #2 \"))\n",
    "c=int(input(\"enter the marks of subject #3 \"))\n",
    "d=int(input(\"enter the marks of subject #4 \"))\n",
    "e=int(input(\"enter the marks of subject #5 \"))\n",
    "\n",
    "per=(a+b+c+d+e)/5\n",
    "if per>=80 and per<=100:\n",
    " print(\" Grade A+\")\n",
    "elif per<80 and per>=70:\n",
    " print(\" Grade A\")\n",
    "elif per<70 and per>=60:\n",
    " print(\" Grade B\")\n",
    "elif per<60 and per>=50 :\n",
    " print(\" Grade C\")\n",
    "elif per<50 and per>=40:\n",
    " print(\" Grade D\")\n",
    "elif per<50 and per>=0:\n",
    " print(\" Grade F\")\n",
    "else:\n",
    " print(\"invalid score\")"
   ]
  },
  {
   "cell_type": "code",
   "execution_count": 3,
   "metadata": {},
   "outputs": [
    {
     "name": "stdout",
     "output_type": "stream",
     "text": [
      "enter the number4\n",
      "it is an even number\n"
     ]
    }
   ],
   "source": [
    "# Assignment 2\n",
    "# Usaid ali\n",
    "a=int(input(\"enter the number\"))\n",
    "\n",
    "if a%2==0:\n",
    "    print(\"it is an even number\")\n",
    "else:\n",
    "    print(\"it is an odd number\")"
   ]
  },
  {
   "cell_type": "code",
   "execution_count": 4,
   "metadata": {},
   "outputs": [
    {
     "name": "stdout",
     "output_type": "stream",
     "text": [
      "the lenght of list is 8\n"
     ]
    }
   ],
   "source": [
    "# Assignment 2\n",
    "# Usaid ali\n",
    "a=[1,2,3,4,5,6,7,8]\n",
    "b=len(a)\n",
    "print(\"the lenght of list is \"+str(b))"
   ]
  },
  {
   "cell_type": "code",
   "execution_count": 6,
   "metadata": {},
   "outputs": [
    {
     "name": "stdout",
     "output_type": "stream",
     "text": [
      "48\n"
     ]
    }
   ],
   "source": [
    "# Assignment 2\n",
    "# Usaid ali\n",
    "a=[1,2,3,4,5,6,10,8,9]\n",
    "b=0\n",
    "for i in a:\n",
    "    b+=i\n",
    "print(b)"
   ]
  },
  {
   "cell_type": "code",
   "execution_count": 8,
   "metadata": {},
   "outputs": [
    {
     "name": "stdout",
     "output_type": "stream",
     "text": [
      "1000\n"
     ]
    }
   ],
   "source": [
    "# Assignment 2\n",
    "# Usaid ali\n",
    "a=[9,67,9,4,7,45,945,1000]\n",
    "max=a[0]\n",
    "for i in a:\n",
    "    if max<i:\n",
    "        max=i\n",
    "\n",
    "print(max)"
   ]
  },
  {
   "cell_type": "code",
   "execution_count": 10,
   "metadata": {},
   "outputs": [
    {
     "name": "stdout",
     "output_type": "stream",
     "text": [
      "1\n",
      "0\n",
      "2\n",
      "3\n"
     ]
    }
   ],
   "source": [
    "# Assignment 2\n",
    "# Usaid ali\n",
    "a=[1,0,2,3,5,8,13,14,15,55,89]\n",
    "for i in a:\n",
    "    if i<5:\n",
    "        print(i)"
   ]
  },
  {
   "cell_type": "code",
   "execution_count": null,
   "metadata": {},
   "outputs": [],
   "source": []
  }
 ],
 "metadata": {
  "kernelspec": {
   "display_name": "Python 3",
   "language": "python",
   "name": "python3"
  }
 },
 "nbformat": 4,
 "nbformat_minor": 2
}
